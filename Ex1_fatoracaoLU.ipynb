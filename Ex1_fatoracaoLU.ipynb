{
 "cells": [
  {
   "cell_type": "code",
   "execution_count": 2,
   "metadata": {},
   "outputs": [
    {
     "name": "stdout",
     "output_type": "stream",
     "text": [
      "The autoreload extension is already loaded. To reload it, use:\n",
      "  %reload_ext autoreload\n",
      "Solução do sistema: [ 1.75  1.5  -1.  ]\n",
      "Matriz L:\n",
      "[1. 0. 0.]\n",
      "[2. 1. 0.]\n",
      "[-1. -1.  1.]\n",
      "\n",
      "Matriz U:\n",
      "[2. 1. 1.]\n",
      "[ 0. -8. -2.]\n",
      "[0. 0. 1.]\n"
     ]
    }
   ],
   "source": [
    "%load_ext autoreload\n",
    "%autoreload 2\n",
    "\n",
    "import numpy as np\n",
    "from fatoracaoLU import solveLU\n",
    "\n",
    "A = np.array([[2, 1, 1],\n",
    "              [4, -6, 0],\n",
    "              [-2, 7, 2]], dtype=float)\n",
    "\n",
    "b = np.array([4, -2, 5], dtype=float)\n",
    "\n",
    "x,L,U = solveLU(A, b)\n",
    "print(\"Solução do sistema:\", x)\n",
    "\n",
    "print(\"Matriz L:\")\n",
    "for row in L:\n",
    "    print(row)\n",
    "\n",
    "print(\"\\nMatriz U:\")\n",
    "for row in U:\n",
    "    print(row)"
   ]
  },
  {
   "cell_type": "code",
   "execution_count": null,
   "metadata": {},
   "outputs": [],
   "source": []
  }
 ],
 "metadata": {
  "kernelspec": {
   "display_name": "Python 3",
   "language": "python",
   "name": "python3"
  },
  "language_info": {
   "codemirror_mode": {
    "name": "ipython",
    "version": 3
   },
   "file_extension": ".py",
   "mimetype": "text/x-python",
   "name": "python",
   "nbconvert_exporter": "python",
   "pygments_lexer": "ipython3",
   "version": "3.6.9"
  }
 },
 "nbformat": 4,
 "nbformat_minor": 2
}
